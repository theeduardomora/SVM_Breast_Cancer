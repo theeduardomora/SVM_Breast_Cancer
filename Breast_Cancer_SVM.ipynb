{
  "nbformat": 4,
  "nbformat_minor": 0,
  "metadata": {
    "colab": {
      "name": "Breast_Cancer_SVM.ipynb",
      "provenance": []
    },
    "kernelspec": {
      "name": "python3",
      "display_name": "Python 3"
    },
    "language_info": {
      "name": "python"
    }
  },
  "cells": [
    {
      "cell_type": "code",
      "execution_count": 1,
      "metadata": {
        "id": "XnOdu3kWTkpn"
      },
      "outputs": [],
      "source": [
        "import pandas as pd\n",
        "import sklearn\n",
        "from sklearn import datasets\n",
        "from sklearn.model_selection import train_test_split\n",
        "from sklearn.svm import SVC\n",
        "from sklearn.preprocessing import StandardScaler\n",
        "from sklearn.model_selection import train_test_split, GridSearchCV\n",
        "import sklearn.metrics as metrics\n",
        "import matplotlib as plt"
      ]
    },
    {
      "cell_type": "code",
      "source": [
        "cancer = datasets.load_breast_cancer()\n",
        "\n",
        "print(\"Features: \", cancer.feature_names)\n",
        "print(\"Labels: \", cancer.target_names)\n",
        "\n",
        "##output of datasets.load_breast_cancer() is Bunch object, dictionary-like object with attributes\n",
        "# data, target, feature_names, target_names, and few others "
      ],
      "metadata": {
        "colab": {
          "base_uri": "https://localhost:8080/"
        },
        "id": "lw5hQxVHTo-T",
        "outputId": "0b817ea9-167a-48e2-e2d6-cf3a3e8ad8e7"
      },
      "execution_count": 2,
      "outputs": [
        {
          "output_type": "stream",
          "name": "stdout",
          "text": [
            "Features:  ['mean radius' 'mean texture' 'mean perimeter' 'mean area'\n",
            " 'mean smoothness' 'mean compactness' 'mean concavity'\n",
            " 'mean concave points' 'mean symmetry' 'mean fractal dimension'\n",
            " 'radius error' 'texture error' 'perimeter error' 'area error'\n",
            " 'smoothness error' 'compactness error' 'concavity error'\n",
            " 'concave points error' 'symmetry error' 'fractal dimension error'\n",
            " 'worst radius' 'worst texture' 'worst perimeter' 'worst area'\n",
            " 'worst smoothness' 'worst compactness' 'worst concavity'\n",
            " 'worst concave points' 'worst symmetry' 'worst fractal dimension']\n",
            "Labels:  ['malignant' 'benign']\n"
          ]
        }
      ]
    },
    {
      "cell_type": "code",
      "source": [
        "print(type(cancer))"
      ],
      "metadata": {
        "colab": {
          "base_uri": "https://localhost:8080/"
        },
        "id": "q6C85THYTpO-",
        "outputId": "34b11351-b74b-49fa-fe34-a4cb40b7b3f1"
      },
      "execution_count": 3,
      "outputs": [
        {
          "output_type": "stream",
          "name": "stdout",
          "text": [
            "<class 'sklearn.utils.Bunch'>\n"
          ]
        }
      ]
    },
    {
      "cell_type": "code",
      "source": [
        "X_train, X_test, y_train, y_test = train_test_split(cancer.data, cancer.target, test_size=0.2, random_state=109)\n",
        "print(len(X_train))\n",
        "\n",
        "print(len(X_test))\n",
        "\n",
        "##train_test_split by sklearn splits the array given into training and testing datasets, with correct labels for each \n",
        "# example."
      ],
      "metadata": {
        "colab": {
          "base_uri": "https://localhost:8080/"
        },
        "id": "WS5UQj0jTpnA",
        "outputId": "ae5d763c-f6f0-4a03-99ec-197abb3bcf40"
      },
      "execution_count": 4,
      "outputs": [
        {
          "output_type": "stream",
          "name": "stdout",
          "text": [
            "455\n",
            "114\n"
          ]
        }
      ]
    },
    {
      "cell_type": "code",
      "source": [
        "X_train"
      ],
      "metadata": {
        "colab": {
          "base_uri": "https://localhost:8080/"
        },
        "id": "NhdtveqgTp69",
        "outputId": "56057ac8-6520-43e8-b426-21ef0137b230"
      },
      "execution_count": 5,
      "outputs": [
        {
          "output_type": "execute_result",
          "data": {
            "text/plain": [
              "array([[2.201e+01, 2.190e+01, 1.472e+02, ..., 2.432e-01, 2.741e-01,\n",
              "        8.574e-02],\n",
              "       [1.720e+01, 2.452e+01, 1.142e+02, ..., 1.899e-01, 3.313e-01,\n",
              "        1.339e-01],\n",
              "       [1.513e+01, 2.981e+01, 9.671e+01, ..., 6.575e-02, 3.233e-01,\n",
              "        6.165e-02],\n",
              "       ...,\n",
              "       [1.611e+01, 1.805e+01, 1.051e+02, ..., 1.216e-01, 2.792e-01,\n",
              "        8.158e-02],\n",
              "       [1.048e+01, 1.986e+01, 6.672e+01, ..., 6.736e-02, 2.883e-01,\n",
              "        7.748e-02],\n",
              "       [1.729e+01, 2.213e+01, 1.144e+02, ..., 1.528e-01, 3.067e-01,\n",
              "        7.484e-02]])"
            ]
          },
          "metadata": {},
          "execution_count": 5
        }
      ]
    },
    {
      "cell_type": "code",
      "source": [
        "steps = [('scaler', StandardScaler()), ('SVM', SVC())]\n",
        "#StandardScaler() Standardizes features by removing the mean and scaling to unit variance\n",
        "#SVC is an SVM written in C\n",
        "\n",
        "from sklearn.pipeline import Pipeline\n",
        "pipeline = Pipeline(steps) # define the pipeline object\n",
        "\n",
        "# From Sklearn docs: \n",
        "#Pipeline of transforms with a final estimator.\n",
        "#Sequentially apply a list of transforms and a final estimator. Intermediate steps of the pipeline must be ‘transforms’,\n",
        "#that is, they must implement fit and transform methods."
      ],
      "metadata": {
        "id": "IzX-XO-ZTqIB"
      },
      "execution_count": 6,
      "outputs": []
    },
    {
      "cell_type": "code",
      "source": [
        "\n",
        "parameters = {'SVM__C':[0.001,0.1,1,10], 'SVM__gamma':[0.01, 0.1, 1]}\n",
        "grid = GridSearchCV(pipeline, param_grid=parameters, cv=5)\n",
        "\n",
        "#GridSearch allows us to help tune hyperparameters for our SVM by exhaustively \n",
        "#generating candidates from parameter values specified by param_grids \n",
        "\n",
        "#cv=5 denotes that we are using 5-fold cross validation. Splits training data\n",
        "#into 5 groups, 4 on which are trained on and last one is used for cross-validation \n",
        "#set for determing accuracy of each model. This is repeated for each fold and averaged \n",
        "#to get the accuracy for a given model with a specified set of hyperparameters. \n",
        "\n",
        "#Here, the default scoring is used. By default, parameter search uses the score function of the estimator \n",
        "#to evaluate a parameter setting"
      ],
      "metadata": {
        "id": "HPSnK86zTqT_"
      },
      "execution_count": 7,
      "outputs": []
    },
    {
      "cell_type": "code",
      "source": [
        "grid.fit(X_train, y_train)\n",
        "y_pred = grid.predict(X_test)\n",
        "print (\"Accuracy = %1.2f\" %(grid.score(X_test,y_test)))\n",
        "print(\"Precision:\",metrics.precision_score(y_test, y_pred))\n",
        "print(\"Recall:\",metrics.recall_score(y_test, y_pred))\n",
        "print(\"F1 score:\",metrics.f1_score(y_test, y_pred))"
      ],
      "metadata": {
        "colab": {
          "base_uri": "https://localhost:8080/"
        },
        "id": "f6eoFXXqTx1A",
        "outputId": "10ce738d-3257-4458-f433-e47eb3c38e1b"
      },
      "execution_count": 15,
      "outputs": [
        {
          "output_type": "stream",
          "name": "stdout",
          "text": [
            "Accuracy = 0.98\n",
            "Precision: 0.9736842105263158\n",
            "Recall: 1.0\n",
            "F1 score: 0.9866666666666666\n"
          ]
        }
      ]
    },
    {
      "cell_type": "code",
      "source": [
        "print (grid.best_params_)"
      ],
      "metadata": {
        "colab": {
          "base_uri": "https://localhost:8080/"
        },
        "id": "3-cAiSl9XE1x",
        "outputId": "ecdd2b9f-282e-42b9-e23f-04db07db6b6f"
      },
      "execution_count": 16,
      "outputs": [
        {
          "output_type": "stream",
          "name": "stdout",
          "text": [
            "{'SVM__C': 10, 'SVM__gamma': 0.01}\n"
          ]
        }
      ]
    },
    {
      "cell_type": "code",
      "source": [
        "cm = metrics.confusion_matrix(y_test, y_pred)\n",
        "cm_display  = metrics.ConfusionMatrixDisplay(cm).plot()"
      ],
      "metadata": {
        "colab": {
          "base_uri": "https://localhost:8080/",
          "height": 279
        },
        "id": "y4u-77TLTyEv",
        "outputId": "69571ad0-b42d-4e83-e6f1-56bc0b3016bc"
      },
      "execution_count": 17,
      "outputs": [
        {
          "output_type": "display_data",
          "data": {
            "text/plain": [
              "<Figure size 432x288 with 2 Axes>"
            ],
            "image/png": "[encoded data removed]"
          },
          "metadata": {
            "needs_background": "light"
          }
        }
      ]
    },
    {
      "cell_type": "code",
      "source": [
        ""
      ],
      "metadata": {
        "id": "E1-p_vVyTyUM"
      },
      "execution_count": null,
      "outputs": []
    },
    {
      "cell_type": "code",
      "source": [
        ""
      ],
      "metadata": {
        "id": "bhQTdc2CTynS"
      },
      "execution_count": null,
      "outputs": []
    },
    {
      "cell_type": "code",
      "source": [
        ""
      ],
      "metadata": {
        "id": "_i3BnRtBTy2i"
      },
      "execution_count": null,
      "outputs": []
    }
  ]
}